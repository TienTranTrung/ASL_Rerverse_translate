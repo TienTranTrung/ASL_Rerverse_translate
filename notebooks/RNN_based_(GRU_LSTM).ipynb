{
  "nbformat": 4,
  "nbformat_minor": 0,
  "metadata": {
    "colab": {
      "provenance": [],
      "gpuType": "T4",
      "collapsed_sections": [
        "bNfA0mK5123Q",
        "81e1Qmx1A4mZ"
      ],
      "authorship_tag": "ABX9TyPJLv5r4GFBSg71gsBN73W/",
      "include_colab_link": true
    },
    "kernelspec": {
      "name": "python3",
      "display_name": "Python 3"
    },
    "language_info": {
      "name": "python"
    },
    "accelerator": "GPU",
    "widgets": {
      "application/vnd.jupyter.widget-state+json": {
        "9931e30682df4be89b544d2b31f81445": {
          "model_module": "@jupyter-widgets/controls",
          "model_name": "HBoxModel",
          "model_module_version": "1.5.0",
          "state": {
            "_dom_classes": [],
            "_model_module": "@jupyter-widgets/controls",
            "_model_module_version": "1.5.0",
            "_model_name": "HBoxModel",
            "_view_count": null,
            "_view_module": "@jupyter-widgets/controls",
            "_view_module_version": "1.5.0",
            "_view_name": "HBoxView",
            "box_style": "",
            "children": [
              "IPY_MODEL_76d672453af34e6db7dd2be9ee972790",
              "IPY_MODEL_b268490fa90f43d5889fa1c608f2a18d",
              "IPY_MODEL_d0f84fa76f334cb7a157bb44c8c32ff9"
            ],
            "layout": "IPY_MODEL_4b01ae28f2e14e65a69f1c14005b0ebb"
          }
        },
        "76d672453af34e6db7dd2be9ee972790": {
          "model_module": "@jupyter-widgets/controls",
          "model_name": "HTMLModel",
          "model_module_version": "1.5.0",
          "state": {
            "_dom_classes": [],
            "_model_module": "@jupyter-widgets/controls",
            "_model_module_version": "1.5.0",
            "_model_name": "HTMLModel",
            "_view_count": null,
            "_view_module": "@jupyter-widgets/controls",
            "_view_module_version": "1.5.0",
            "_view_name": "HTMLView",
            "description": "",
            "description_tooltip": null,
            "layout": "IPY_MODEL_5920c65615a1406490e010b8b3d24ce7",
            "placeholder": "​",
            "style": "IPY_MODEL_1aa2a7b9c54e4af7a79f9d485fb7b756",
            "value": "Downloading readme: 100%"
          }
        },
        "b268490fa90f43d5889fa1c608f2a18d": {
          "model_module": "@jupyter-widgets/controls",
          "model_name": "FloatProgressModel",
          "model_module_version": "1.5.0",
          "state": {
            "_dom_classes": [],
            "_model_module": "@jupyter-widgets/controls",
            "_model_module_version": "1.5.0",
            "_model_name": "FloatProgressModel",
            "_view_count": null,
            "_view_module": "@jupyter-widgets/controls",
            "_view_module_version": "1.5.0",
            "_view_name": "ProgressView",
            "bar_style": "success",
            "description": "",
            "description_tooltip": null,
            "layout": "IPY_MODEL_573bbe6831844de587d6b1d385c8b770",
            "max": 5813,
            "min": 0,
            "orientation": "horizontal",
            "style": "IPY_MODEL_c33746be31ec485c92a4bd614b54ba97",
            "value": 5813
          }
        },
        "d0f84fa76f334cb7a157bb44c8c32ff9": {
          "model_module": "@jupyter-widgets/controls",
          "model_name": "HTMLModel",
          "model_module_version": "1.5.0",
          "state": {
            "_dom_classes": [],
            "_model_module": "@jupyter-widgets/controls",
            "_model_module_version": "1.5.0",
            "_model_name": "HTMLModel",
            "_view_count": null,
            "_view_module": "@jupyter-widgets/controls",
            "_view_module_version": "1.5.0",
            "_view_name": "HTMLView",
            "description": "",
            "description_tooltip": null,
            "layout": "IPY_MODEL_6f3100cb2ba2402aa4441591d8e15ba5",
            "placeholder": "​",
            "style": "IPY_MODEL_afe50fc8e8e6424caeec918d978dc182",
            "value": " 5.81k/5.81k [00:00&lt;00:00, 321kB/s]"
          }
        },
        "4b01ae28f2e14e65a69f1c14005b0ebb": {
          "model_module": "@jupyter-widgets/base",
          "model_name": "LayoutModel",
          "model_module_version": "1.2.0",
          "state": {
            "_model_module": "@jupyter-widgets/base",
            "_model_module_version": "1.2.0",
            "_model_name": "LayoutModel",
            "_view_count": null,
            "_view_module": "@jupyter-widgets/base",
            "_view_module_version": "1.2.0",
            "_view_name": "LayoutView",
            "align_content": null,
            "align_items": null,
            "align_self": null,
            "border": null,
            "bottom": null,
            "display": null,
            "flex": null,
            "flex_flow": null,
            "grid_area": null,
            "grid_auto_columns": null,
            "grid_auto_flow": null,
            "grid_auto_rows": null,
            "grid_column": null,
            "grid_gap": null,
            "grid_row": null,
            "grid_template_areas": null,
            "grid_template_columns": null,
            "grid_template_rows": null,
            "height": null,
            "justify_content": null,
            "justify_items": null,
            "left": null,
            "margin": null,
            "max_height": null,
            "max_width": null,
            "min_height": null,
            "min_width": null,
            "object_fit": null,
            "object_position": null,
            "order": null,
            "overflow": null,
            "overflow_x": null,
            "overflow_y": null,
            "padding": null,
            "right": null,
            "top": null,
            "visibility": null,
            "width": null
          }
        },
        "5920c65615a1406490e010b8b3d24ce7": {
          "model_module": "@jupyter-widgets/base",
          "model_name": "LayoutModel",
          "model_module_version": "1.2.0",
          "state": {
            "_model_module": "@jupyter-widgets/base",
            "_model_module_version": "1.2.0",
            "_model_name": "LayoutModel",
            "_view_count": null,
            "_view_module": "@jupyter-widgets/base",
            "_view_module_version": "1.2.0",
            "_view_name": "LayoutView",
            "align_content": null,
            "align_items": null,
            "align_self": null,
            "border": null,
            "bottom": null,
            "display": null,
            "flex": null,
            "flex_flow": null,
            "grid_area": null,
            "grid_auto_columns": null,
            "grid_auto_flow": null,
            "grid_auto_rows": null,
            "grid_column": null,
            "grid_gap": null,
            "grid_row": null,
            "grid_template_areas": null,
            "grid_template_columns": null,
            "grid_template_rows": null,
            "height": null,
            "justify_content": null,
            "justify_items": null,
            "left": null,
            "margin": null,
            "max_height": null,
            "max_width": null,
            "min_height": null,
            "min_width": null,
            "object_fit": null,
            "object_position": null,
            "order": null,
            "overflow": null,
            "overflow_x": null,
            "overflow_y": null,
            "padding": null,
            "right": null,
            "top": null,
            "visibility": null,
            "width": null
          }
        },
        "1aa2a7b9c54e4af7a79f9d485fb7b756": {
          "model_module": "@jupyter-widgets/controls",
          "model_name": "DescriptionStyleModel",
          "model_module_version": "1.5.0",
          "state": {
            "_model_module": "@jupyter-widgets/controls",
            "_model_module_version": "1.5.0",
            "_model_name": "DescriptionStyleModel",
            "_view_count": null,
            "_view_module": "@jupyter-widgets/base",
            "_view_module_version": "1.2.0",
            "_view_name": "StyleView",
            "description_width": ""
          }
        },
        "573bbe6831844de587d6b1d385c8b770": {
          "model_module": "@jupyter-widgets/base",
          "model_name": "LayoutModel",
          "model_module_version": "1.2.0",
          "state": {
            "_model_module": "@jupyter-widgets/base",
            "_model_module_version": "1.2.0",
            "_model_name": "LayoutModel",
            "_view_count": null,
            "_view_module": "@jupyter-widgets/base",
            "_view_module_version": "1.2.0",
            "_view_name": "LayoutView",
            "align_content": null,
            "align_items": null,
            "align_self": null,
            "border": null,
            "bottom": null,
            "display": null,
            "flex": null,
            "flex_flow": null,
            "grid_area": null,
            "grid_auto_columns": null,
            "grid_auto_flow": null,
            "grid_auto_rows": null,
            "grid_column": null,
            "grid_gap": null,
            "grid_row": null,
            "grid_template_areas": null,
            "grid_template_columns": null,
            "grid_template_rows": null,
            "height": null,
            "justify_content": null,
            "justify_items": null,
            "left": null,
            "margin": null,
            "max_height": null,
            "max_width": null,
            "min_height": null,
            "min_width": null,
            "object_fit": null,
            "object_position": null,
            "order": null,
            "overflow": null,
            "overflow_x": null,
            "overflow_y": null,
            "padding": null,
            "right": null,
            "top": null,
            "visibility": null,
            "width": null
          }
        },
        "c33746be31ec485c92a4bd614b54ba97": {
          "model_module": "@jupyter-widgets/controls",
          "model_name": "ProgressStyleModel",
          "model_module_version": "1.5.0",
          "state": {
            "_model_module": "@jupyter-widgets/controls",
            "_model_module_version": "1.5.0",
            "_model_name": "ProgressStyleModel",
            "_view_count": null,
            "_view_module": "@jupyter-widgets/base",
            "_view_module_version": "1.2.0",
            "_view_name": "StyleView",
            "bar_color": null,
            "description_width": ""
          }
        },
        "6f3100cb2ba2402aa4441591d8e15ba5": {
          "model_module": "@jupyter-widgets/base",
          "model_name": "LayoutModel",
          "model_module_version": "1.2.0",
          "state": {
            "_model_module": "@jupyter-widgets/base",
            "_model_module_version": "1.2.0",
            "_model_name": "LayoutModel",
            "_view_count": null,
            "_view_module": "@jupyter-widgets/base",
            "_view_module_version": "1.2.0",
            "_view_name": "LayoutView",
            "align_content": null,
            "align_items": null,
            "align_self": null,
            "border": null,
            "bottom": null,
            "display": null,
            "flex": null,
            "flex_flow": null,
            "grid_area": null,
            "grid_auto_columns": null,
            "grid_auto_flow": null,
            "grid_auto_rows": null,
            "grid_column": null,
            "grid_gap": null,
            "grid_row": null,
            "grid_template_areas": null,
            "grid_template_columns": null,
            "grid_template_rows": null,
            "height": null,
            "justify_content": null,
            "justify_items": null,
            "left": null,
            "margin": null,
            "max_height": null,
            "max_width": null,
            "min_height": null,
            "min_width": null,
            "object_fit": null,
            "object_position": null,
            "order": null,
            "overflow": null,
            "overflow_x": null,
            "overflow_y": null,
            "padding": null,
            "right": null,
            "top": null,
            "visibility": null,
            "width": null
          }
        },
        "afe50fc8e8e6424caeec918d978dc182": {
          "model_module": "@jupyter-widgets/controls",
          "model_name": "DescriptionStyleModel",
          "model_module_version": "1.5.0",
          "state": {
            "_model_module": "@jupyter-widgets/controls",
            "_model_module_version": "1.5.0",
            "_model_name": "DescriptionStyleModel",
            "_view_count": null,
            "_view_module": "@jupyter-widgets/base",
            "_view_module_version": "1.2.0",
            "_view_name": "StyleView",
            "description_width": ""
          }
        },
        "195e937408d44f1a99834a08f176fb52": {
          "model_module": "@jupyter-widgets/controls",
          "model_name": "HBoxModel",
          "model_module_version": "1.5.0",
          "state": {
            "_dom_classes": [],
            "_model_module": "@jupyter-widgets/controls",
            "_model_module_version": "1.5.0",
            "_model_name": "HBoxModel",
            "_view_count": null,
            "_view_module": "@jupyter-widgets/controls",
            "_view_module_version": "1.5.0",
            "_view_name": "HBoxView",
            "box_style": "",
            "children": [
              "IPY_MODEL_cf100bb71d5b4d328154534c0a6c35cb",
              "IPY_MODEL_12f6373a58434951aad7e91dfb3dc7eb",
              "IPY_MODEL_b45a2363521945219548280917e4ad08"
            ],
            "layout": "IPY_MODEL_2eac3e4a229f4be5ba7bf0f4b88cba32"
          }
        },
        "cf100bb71d5b4d328154534c0a6c35cb": {
          "model_module": "@jupyter-widgets/controls",
          "model_name": "HTMLModel",
          "model_module_version": "1.5.0",
          "state": {
            "_dom_classes": [],
            "_model_module": "@jupyter-widgets/controls",
            "_model_module_version": "1.5.0",
            "_model_name": "HTMLModel",
            "_view_count": null,
            "_view_module": "@jupyter-widgets/controls",
            "_view_module_version": "1.5.0",
            "_view_name": "HTMLView",
            "description": "",
            "description_tooltip": null,
            "layout": "IPY_MODEL_5899d5ac3faf4d5cb94dd0d353b19005",
            "placeholder": "​",
            "style": "IPY_MODEL_010fe93bee1b413f94213330486f43f5",
            "value": "Downloading data: 100%"
          }
        },
        "12f6373a58434951aad7e91dfb3dc7eb": {
          "model_module": "@jupyter-widgets/controls",
          "model_name": "FloatProgressModel",
          "model_module_version": "1.5.0",
          "state": {
            "_dom_classes": [],
            "_model_module": "@jupyter-widgets/controls",
            "_model_module_version": "1.5.0",
            "_model_name": "FloatProgressModel",
            "_view_count": null,
            "_view_module": "@jupyter-widgets/controls",
            "_view_module_version": "1.5.0",
            "_view_name": "ProgressView",
            "bar_style": "success",
            "description": "",
            "description_tooltip": null,
            "layout": "IPY_MODEL_feb417fe685a4ff7b2e83fd84f7821e1",
            "max": 7583458,
            "min": 0,
            "orientation": "horizontal",
            "style": "IPY_MODEL_f914db5719aa4bd8bea47deef831b693",
            "value": 7583458
          }
        },
        "b45a2363521945219548280917e4ad08": {
          "model_module": "@jupyter-widgets/controls",
          "model_name": "HTMLModel",
          "model_module_version": "1.5.0",
          "state": {
            "_dom_classes": [],
            "_model_module": "@jupyter-widgets/controls",
            "_model_module_version": "1.5.0",
            "_model_name": "HTMLModel",
            "_view_count": null,
            "_view_module": "@jupyter-widgets/controls",
            "_view_module_version": "1.5.0",
            "_view_name": "HTMLView",
            "description": "",
            "description_tooltip": null,
            "layout": "IPY_MODEL_e67e37a2855d4ca5999b4f41a2286985",
            "placeholder": "​",
            "style": "IPY_MODEL_e25c5eb603fe4a01ae8b14fd7b9d23ce",
            "value": " 7.58M/7.58M [00:01&lt;00:00, 3.45MB/s]"
          }
        },
        "2eac3e4a229f4be5ba7bf0f4b88cba32": {
          "model_module": "@jupyter-widgets/base",
          "model_name": "LayoutModel",
          "model_module_version": "1.2.0",
          "state": {
            "_model_module": "@jupyter-widgets/base",
            "_model_module_version": "1.2.0",
            "_model_name": "LayoutModel",
            "_view_count": null,
            "_view_module": "@jupyter-widgets/base",
            "_view_module_version": "1.2.0",
            "_view_name": "LayoutView",
            "align_content": null,
            "align_items": null,
            "align_self": null,
            "border": null,
            "bottom": null,
            "display": null,
            "flex": null,
            "flex_flow": null,
            "grid_area": null,
            "grid_auto_columns": null,
            "grid_auto_flow": null,
            "grid_auto_rows": null,
            "grid_column": null,
            "grid_gap": null,
            "grid_row": null,
            "grid_template_areas": null,
            "grid_template_columns": null,
            "grid_template_rows": null,
            "height": null,
            "justify_content": null,
            "justify_items": null,
            "left": null,
            "margin": null,
            "max_height": null,
            "max_width": null,
            "min_height": null,
            "min_width": null,
            "object_fit": null,
            "object_position": null,
            "order": null,
            "overflow": null,
            "overflow_x": null,
            "overflow_y": null,
            "padding": null,
            "right": null,
            "top": null,
            "visibility": null,
            "width": null
          }
        },
        "5899d5ac3faf4d5cb94dd0d353b19005": {
          "model_module": "@jupyter-widgets/base",
          "model_name": "LayoutModel",
          "model_module_version": "1.2.0",
          "state": {
            "_model_module": "@jupyter-widgets/base",
            "_model_module_version": "1.2.0",
            "_model_name": "LayoutModel",
            "_view_count": null,
            "_view_module": "@jupyter-widgets/base",
            "_view_module_version": "1.2.0",
            "_view_name": "LayoutView",
            "align_content": null,
            "align_items": null,
            "align_self": null,
            "border": null,
            "bottom": null,
            "display": null,
            "flex": null,
            "flex_flow": null,
            "grid_area": null,
            "grid_auto_columns": null,
            "grid_auto_flow": null,
            "grid_auto_rows": null,
            "grid_column": null,
            "grid_gap": null,
            "grid_row": null,
            "grid_template_areas": null,
            "grid_template_columns": null,
            "grid_template_rows": null,
            "height": null,
            "justify_content": null,
            "justify_items": null,
            "left": null,
            "margin": null,
            "max_height": null,
            "max_width": null,
            "min_height": null,
            "min_width": null,
            "object_fit": null,
            "object_position": null,
            "order": null,
            "overflow": null,
            "overflow_x": null,
            "overflow_y": null,
            "padding": null,
            "right": null,
            "top": null,
            "visibility": null,
            "width": null
          }
        },
        "010fe93bee1b413f94213330486f43f5": {
          "model_module": "@jupyter-widgets/controls",
          "model_name": "DescriptionStyleModel",
          "model_module_version": "1.5.0",
          "state": {
            "_model_module": "@jupyter-widgets/controls",
            "_model_module_version": "1.5.0",
            "_model_name": "DescriptionStyleModel",
            "_view_count": null,
            "_view_module": "@jupyter-widgets/base",
            "_view_module_version": "1.2.0",
            "_view_name": "StyleView",
            "description_width": ""
          }
        },
        "feb417fe685a4ff7b2e83fd84f7821e1": {
          "model_module": "@jupyter-widgets/base",
          "model_name": "LayoutModel",
          "model_module_version": "1.2.0",
          "state": {
            "_model_module": "@jupyter-widgets/base",
            "_model_module_version": "1.2.0",
            "_model_name": "LayoutModel",
            "_view_count": null,
            "_view_module": "@jupyter-widgets/base",
            "_view_module_version": "1.2.0",
            "_view_name": "LayoutView",
            "align_content": null,
            "align_items": null,
            "align_self": null,
            "border": null,
            "bottom": null,
            "display": null,
            "flex": null,
            "flex_flow": null,
            "grid_area": null,
            "grid_auto_columns": null,
            "grid_auto_flow": null,
            "grid_auto_rows": null,
            "grid_column": null,
            "grid_gap": null,
            "grid_row": null,
            "grid_template_areas": null,
            "grid_template_columns": null,
            "grid_template_rows": null,
            "height": null,
            "justify_content": null,
            "justify_items": null,
            "left": null,
            "margin": null,
            "max_height": null,
            "max_width": null,
            "min_height": null,
            "min_width": null,
            "object_fit": null,
            "object_position": null,
            "order": null,
            "overflow": null,
            "overflow_x": null,
            "overflow_y": null,
            "padding": null,
            "right": null,
            "top": null,
            "visibility": null,
            "width": null
          }
        },
        "f914db5719aa4bd8bea47deef831b693": {
          "model_module": "@jupyter-widgets/controls",
          "model_name": "ProgressStyleModel",
          "model_module_version": "1.5.0",
          "state": {
            "_model_module": "@jupyter-widgets/controls",
            "_model_module_version": "1.5.0",
            "_model_name": "ProgressStyleModel",
            "_view_count": null,
            "_view_module": "@jupyter-widgets/base",
            "_view_module_version": "1.2.0",
            "_view_name": "StyleView",
            "bar_color": null,
            "description_width": ""
          }
        },
        "e67e37a2855d4ca5999b4f41a2286985": {
          "model_module": "@jupyter-widgets/base",
          "model_name": "LayoutModel",
          "model_module_version": "1.2.0",
          "state": {
            "_model_module": "@jupyter-widgets/base",
            "_model_module_version": "1.2.0",
            "_model_name": "LayoutModel",
            "_view_count": null,
            "_view_module": "@jupyter-widgets/base",
            "_view_module_version": "1.2.0",
            "_view_name": "LayoutView",
            "align_content": null,
            "align_items": null,
            "align_self": null,
            "border": null,
            "bottom": null,
            "display": null,
            "flex": null,
            "flex_flow": null,
            "grid_area": null,
            "grid_auto_columns": null,
            "grid_auto_flow": null,
            "grid_auto_rows": null,
            "grid_column": null,
            "grid_gap": null,
            "grid_row": null,
            "grid_template_areas": null,
            "grid_template_columns": null,
            "grid_template_rows": null,
            "height": null,
            "justify_content": null,
            "justify_items": null,
            "left": null,
            "margin": null,
            "max_height": null,
            "max_width": null,
            "min_height": null,
            "min_width": null,
            "object_fit": null,
            "object_position": null,
            "order": null,
            "overflow": null,
            "overflow_x": null,
            "overflow_y": null,
            "padding": null,
            "right": null,
            "top": null,
            "visibility": null,
            "width": null
          }
        },
        "e25c5eb603fe4a01ae8b14fd7b9d23ce": {
          "model_module": "@jupyter-widgets/controls",
          "model_name": "DescriptionStyleModel",
          "model_module_version": "1.5.0",
          "state": {
            "_model_module": "@jupyter-widgets/controls",
            "_model_module_version": "1.5.0",
            "_model_name": "DescriptionStyleModel",
            "_view_count": null,
            "_view_module": "@jupyter-widgets/base",
            "_view_module_version": "1.2.0",
            "_view_name": "StyleView",
            "description_width": ""
          }
        },
        "d5b711164bd845e093a8abfc2dda1a5b": {
          "model_module": "@jupyter-widgets/controls",
          "model_name": "HBoxModel",
          "model_module_version": "1.5.0",
          "state": {
            "_dom_classes": [],
            "_model_module": "@jupyter-widgets/controls",
            "_model_module_version": "1.5.0",
            "_model_name": "HBoxModel",
            "_view_count": null,
            "_view_module": "@jupyter-widgets/controls",
            "_view_module_version": "1.5.0",
            "_view_name": "HBoxView",
            "box_style": "",
            "children": [
              "IPY_MODEL_cecba1dfdb2b48e9bca13d6d7bf87080",
              "IPY_MODEL_f6814332ddd04b80a01934d438ade1bb",
              "IPY_MODEL_a54a544d01d24bd69dd126267893d2d8"
            ],
            "layout": "IPY_MODEL_7e979a5cbc684b14aaa1e8769503ffc6"
          }
        },
        "cecba1dfdb2b48e9bca13d6d7bf87080": {
          "model_module": "@jupyter-widgets/controls",
          "model_name": "HTMLModel",
          "model_module_version": "1.5.0",
          "state": {
            "_dom_classes": [],
            "_model_module": "@jupyter-widgets/controls",
            "_model_module_version": "1.5.0",
            "_model_name": "HTMLModel",
            "_view_count": null,
            "_view_module": "@jupyter-widgets/controls",
            "_view_module_version": "1.5.0",
            "_view_name": "HTMLView",
            "description": "",
            "description_tooltip": null,
            "layout": "IPY_MODEL_5aaa1d0e68184f8788c727c16c75c2c7",
            "placeholder": "​",
            "style": "IPY_MODEL_a4c29a7b8c9244bea49e19d2fe3881b3",
            "value": "Generating train split: 100%"
          }
        },
        "f6814332ddd04b80a01934d438ade1bb": {
          "model_module": "@jupyter-widgets/controls",
          "model_name": "FloatProgressModel",
          "model_module_version": "1.5.0",
          "state": {
            "_dom_classes": [],
            "_model_module": "@jupyter-widgets/controls",
            "_model_module_version": "1.5.0",
            "_model_name": "FloatProgressModel",
            "_view_count": null,
            "_view_module": "@jupyter-widgets/controls",
            "_view_module_version": "1.5.0",
            "_view_name": "ProgressView",
            "bar_style": "success",
            "description": "",
            "description_tooltip": null,
            "layout": "IPY_MODEL_3c6160f5755e441cbf7624069a403016",
            "max": 87710,
            "min": 0,
            "orientation": "horizontal",
            "style": "IPY_MODEL_4cf2b9ed635f4619b4efcaaa609355dd",
            "value": 87710
          }
        },
        "a54a544d01d24bd69dd126267893d2d8": {
          "model_module": "@jupyter-widgets/controls",
          "model_name": "HTMLModel",
          "model_module_version": "1.5.0",
          "state": {
            "_dom_classes": [],
            "_model_module": "@jupyter-widgets/controls",
            "_model_module_version": "1.5.0",
            "_model_name": "HTMLModel",
            "_view_count": null,
            "_view_module": "@jupyter-widgets/controls",
            "_view_module_version": "1.5.0",
            "_view_name": "HTMLView",
            "description": "",
            "description_tooltip": null,
            "layout": "IPY_MODEL_924dadf9674244b683f9452693815a97",
            "placeholder": "​",
            "style": "IPY_MODEL_32b64e2ed6414b1e8393785f5eb3ad79",
            "value": " 87710/87710 [00:00&lt;00:00, 350732.02 examples/s]"
          }
        },
        "7e979a5cbc684b14aaa1e8769503ffc6": {
          "model_module": "@jupyter-widgets/base",
          "model_name": "LayoutModel",
          "model_module_version": "1.2.0",
          "state": {
            "_model_module": "@jupyter-widgets/base",
            "_model_module_version": "1.2.0",
            "_model_name": "LayoutModel",
            "_view_count": null,
            "_view_module": "@jupyter-widgets/base",
            "_view_module_version": "1.2.0",
            "_view_name": "LayoutView",
            "align_content": null,
            "align_items": null,
            "align_self": null,
            "border": null,
            "bottom": null,
            "display": null,
            "flex": null,
            "flex_flow": null,
            "grid_area": null,
            "grid_auto_columns": null,
            "grid_auto_flow": null,
            "grid_auto_rows": null,
            "grid_column": null,
            "grid_gap": null,
            "grid_row": null,
            "grid_template_areas": null,
            "grid_template_columns": null,
            "grid_template_rows": null,
            "height": null,
            "justify_content": null,
            "justify_items": null,
            "left": null,
            "margin": null,
            "max_height": null,
            "max_width": null,
            "min_height": null,
            "min_width": null,
            "object_fit": null,
            "object_position": null,
            "order": null,
            "overflow": null,
            "overflow_x": null,
            "overflow_y": null,
            "padding": null,
            "right": null,
            "top": null,
            "visibility": null,
            "width": null
          }
        },
        "5aaa1d0e68184f8788c727c16c75c2c7": {
          "model_module": "@jupyter-widgets/base",
          "model_name": "LayoutModel",
          "model_module_version": "1.2.0",
          "state": {
            "_model_module": "@jupyter-widgets/base",
            "_model_module_version": "1.2.0",
            "_model_name": "LayoutModel",
            "_view_count": null,
            "_view_module": "@jupyter-widgets/base",
            "_view_module_version": "1.2.0",
            "_view_name": "LayoutView",
            "align_content": null,
            "align_items": null,
            "align_self": null,
            "border": null,
            "bottom": null,
            "display": null,
            "flex": null,
            "flex_flow": null,
            "grid_area": null,
            "grid_auto_columns": null,
            "grid_auto_flow": null,
            "grid_auto_rows": null,
            "grid_column": null,
            "grid_gap": null,
            "grid_row": null,
            "grid_template_areas": null,
            "grid_template_columns": null,
            "grid_template_rows": null,
            "height": null,
            "justify_content": null,
            "justify_items": null,
            "left": null,
            "margin": null,
            "max_height": null,
            "max_width": null,
            "min_height": null,
            "min_width": null,
            "object_fit": null,
            "object_position": null,
            "order": null,
            "overflow": null,
            "overflow_x": null,
            "overflow_y": null,
            "padding": null,
            "right": null,
            "top": null,
            "visibility": null,
            "width": null
          }
        },
        "a4c29a7b8c9244bea49e19d2fe3881b3": {
          "model_module": "@jupyter-widgets/controls",
          "model_name": "DescriptionStyleModel",
          "model_module_version": "1.5.0",
          "state": {
            "_model_module": "@jupyter-widgets/controls",
            "_model_module_version": "1.5.0",
            "_model_name": "DescriptionStyleModel",
            "_view_count": null,
            "_view_module": "@jupyter-widgets/base",
            "_view_module_version": "1.2.0",
            "_view_name": "StyleView",
            "description_width": ""
          }
        },
        "3c6160f5755e441cbf7624069a403016": {
          "model_module": "@jupyter-widgets/base",
          "model_name": "LayoutModel",
          "model_module_version": "1.2.0",
          "state": {
            "_model_module": "@jupyter-widgets/base",
            "_model_module_version": "1.2.0",
            "_model_name": "LayoutModel",
            "_view_count": null,
            "_view_module": "@jupyter-widgets/base",
            "_view_module_version": "1.2.0",
            "_view_name": "LayoutView",
            "align_content": null,
            "align_items": null,
            "align_self": null,
            "border": null,
            "bottom": null,
            "display": null,
            "flex": null,
            "flex_flow": null,
            "grid_area": null,
            "grid_auto_columns": null,
            "grid_auto_flow": null,
            "grid_auto_rows": null,
            "grid_column": null,
            "grid_gap": null,
            "grid_row": null,
            "grid_template_areas": null,
            "grid_template_columns": null,
            "grid_template_rows": null,
            "height": null,
            "justify_content": null,
            "justify_items": null,
            "left": null,
            "margin": null,
            "max_height": null,
            "max_width": null,
            "min_height": null,
            "min_width": null,
            "object_fit": null,
            "object_position": null,
            "order": null,
            "overflow": null,
            "overflow_x": null,
            "overflow_y": null,
            "padding": null,
            "right": null,
            "top": null,
            "visibility": null,
            "width": null
          }
        },
        "4cf2b9ed635f4619b4efcaaa609355dd": {
          "model_module": "@jupyter-widgets/controls",
          "model_name": "ProgressStyleModel",
          "model_module_version": "1.5.0",
          "state": {
            "_model_module": "@jupyter-widgets/controls",
            "_model_module_version": "1.5.0",
            "_model_name": "ProgressStyleModel",
            "_view_count": null,
            "_view_module": "@jupyter-widgets/base",
            "_view_module_version": "1.2.0",
            "_view_name": "StyleView",
            "bar_color": null,
            "description_width": ""
          }
        },
        "924dadf9674244b683f9452693815a97": {
          "model_module": "@jupyter-widgets/base",
          "model_name": "LayoutModel",
          "model_module_version": "1.2.0",
          "state": {
            "_model_module": "@jupyter-widgets/base",
            "_model_module_version": "1.2.0",
            "_model_name": "LayoutModel",
            "_view_count": null,
            "_view_module": "@jupyter-widgets/base",
            "_view_module_version": "1.2.0",
            "_view_name": "LayoutView",
            "align_content": null,
            "align_items": null,
            "align_self": null,
            "border": null,
            "bottom": null,
            "display": null,
            "flex": null,
            "flex_flow": null,
            "grid_area": null,
            "grid_auto_columns": null,
            "grid_auto_flow": null,
            "grid_auto_rows": null,
            "grid_column": null,
            "grid_gap": null,
            "grid_row": null,
            "grid_template_areas": null,
            "grid_template_columns": null,
            "grid_template_rows": null,
            "height": null,
            "justify_content": null,
            "justify_items": null,
            "left": null,
            "margin": null,
            "max_height": null,
            "max_width": null,
            "min_height": null,
            "min_width": null,
            "object_fit": null,
            "object_position": null,
            "order": null,
            "overflow": null,
            "overflow_x": null,
            "overflow_y": null,
            "padding": null,
            "right": null,
            "top": null,
            "visibility": null,
            "width": null
          }
        },
        "32b64e2ed6414b1e8393785f5eb3ad79": {
          "model_module": "@jupyter-widgets/controls",
          "model_name": "DescriptionStyleModel",
          "model_module_version": "1.5.0",
          "state": {
            "_model_module": "@jupyter-widgets/controls",
            "_model_module_version": "1.5.0",
            "_model_name": "DescriptionStyleModel",
            "_view_count": null,
            "_view_module": "@jupyter-widgets/base",
            "_view_module_version": "1.2.0",
            "_view_name": "StyleView",
            "description_width": ""
          }
        }
      }
    }
  },
  "cells": [
    {
      "cell_type": "markdown",
      "metadata": {
        "id": "view-in-github",
        "colab_type": "text"
      },
      "source": [
        "<a href=\"https://colab.research.google.com/github/TienTranTrung/ASL_Rerverse_translate/blob/master/notebooks/RNN_based_(GRU_LSTM).ipynb\" target=\"_parent\"><img src=\"https://colab.research.google.com/assets/colab-badge.svg\" alt=\"Open In Colab\"/></a>"
      ]
    },
    {
      "cell_type": "markdown",
      "source": [
        "# 1. Build dataset"
      ],
      "metadata": {
        "id": "pkr5QUyApwyk"
      }
    },
    {
      "cell_type": "code",
      "source": [
        "!pip install -q datasets sacrebleu"
      ],
      "metadata": {
        "id": "MxNxjFktsbej",
        "colab": {
          "base_uri": "https://localhost:8080/"
        },
        "outputId": "839b40c8-e285-4901-98a3-825571d2ee39"
      },
      "execution_count": null,
      "outputs": [
        {
          "output_type": "stream",
          "name": "stdout",
          "text": [
            "\u001b[?25l     \u001b[90m━━━━━━━━━━━━━━━━━━━━━━━━━━━━━━━━━━━━━━━━\u001b[0m \u001b[32m0.0/510.5 kB\u001b[0m \u001b[31m?\u001b[0m eta \u001b[36m-:--:--\u001b[0m\r\u001b[2K     \u001b[91m━━━━━━━━━━━━━━━━━━━━━━\u001b[0m\u001b[90m╺\u001b[0m\u001b[90m━━━━━━━━━━━━━━━━━\u001b[0m \u001b[32m286.7/510.5 kB\u001b[0m \u001b[31m8.6 MB/s\u001b[0m eta \u001b[36m0:00:01\u001b[0m\r\u001b[2K     \u001b[90m━━━━━━━━━━━━━━━━━━━━━━━━━━━━━━━━━━━━━━━━\u001b[0m \u001b[32m510.5/510.5 kB\u001b[0m \u001b[31m8.8 MB/s\u001b[0m eta \u001b[36m0:00:00\u001b[0m\n",
            "\u001b[2K     \u001b[90m━━━━━━━━━━━━━━━━━━━━━━━━━━━━━━━━━━━━━━━━\u001b[0m \u001b[32m106.3/106.3 kB\u001b[0m \u001b[31m9.9 MB/s\u001b[0m eta \u001b[36m0:00:00\u001b[0m\n",
            "\u001b[2K     \u001b[90m━━━━━━━━━━━━━━━━━━━━━━━━━━━━━━━━━━━━━━━━\u001b[0m \u001b[32m116.3/116.3 kB\u001b[0m \u001b[31m8.1 MB/s\u001b[0m eta \u001b[36m0:00:00\u001b[0m\n",
            "\u001b[2K     \u001b[90m━━━━━━━━━━━━━━━━━━━━━━━━━━━━━━━━━━━━━━━━\u001b[0m \u001b[32m134.8/134.8 kB\u001b[0m \u001b[31m9.7 MB/s\u001b[0m eta \u001b[36m0:00:00\u001b[0m\n",
            "\u001b[?25h"
          ]
        }
      ]
    },
    {
      "cell_type": "code",
      "execution_count": null,
      "metadata": {
        "id": "TvgwwpOJpq5C",
        "colab": {
          "base_uri": "https://localhost:8080/",
          "height": 237,
          "referenced_widgets": [
            "9931e30682df4be89b544d2b31f81445",
            "76d672453af34e6db7dd2be9ee972790",
            "b268490fa90f43d5889fa1c608f2a18d",
            "d0f84fa76f334cb7a157bb44c8c32ff9",
            "4b01ae28f2e14e65a69f1c14005b0ebb",
            "5920c65615a1406490e010b8b3d24ce7",
            "1aa2a7b9c54e4af7a79f9d485fb7b756",
            "573bbe6831844de587d6b1d385c8b770",
            "c33746be31ec485c92a4bd614b54ba97",
            "6f3100cb2ba2402aa4441591d8e15ba5",
            "afe50fc8e8e6424caeec918d978dc182",
            "195e937408d44f1a99834a08f176fb52",
            "cf100bb71d5b4d328154534c0a6c35cb",
            "12f6373a58434951aad7e91dfb3dc7eb",
            "b45a2363521945219548280917e4ad08",
            "2eac3e4a229f4be5ba7bf0f4b88cba32",
            "5899d5ac3faf4d5cb94dd0d353b19005",
            "010fe93bee1b413f94213330486f43f5",
            "feb417fe685a4ff7b2e83fd84f7821e1",
            "f914db5719aa4bd8bea47deef831b693",
            "e67e37a2855d4ca5999b4f41a2286985",
            "e25c5eb603fe4a01ae8b14fd7b9d23ce",
            "d5b711164bd845e093a8abfc2dda1a5b",
            "cecba1dfdb2b48e9bca13d6d7bf87080",
            "f6814332ddd04b80a01934d438ade1bb",
            "a54a544d01d24bd69dd126267893d2d8",
            "7e979a5cbc684b14aaa1e8769503ffc6",
            "5aaa1d0e68184f8788c727c16c75c2c7",
            "a4c29a7b8c9244bea49e19d2fe3881b3",
            "3c6160f5755e441cbf7624069a403016",
            "4cf2b9ed635f4619b4efcaaa609355dd",
            "924dadf9674244b683f9452693815a97",
            "32b64e2ed6414b1e8393785f5eb3ad79"
          ]
        },
        "outputId": "778037ec-7fb3-4df8-b1a9-0a773832f5e0"
      },
      "outputs": [
        {
          "output_type": "stream",
          "name": "stderr",
          "text": [
            "/usr/local/lib/python3.10/dist-packages/huggingface_hub/utils/_token.py:88: UserWarning: \n",
            "The secret `HF_TOKEN` does not exist in your Colab secrets.\n",
            "To authenticate with the Hugging Face Hub, create a token in your settings tab (https://huggingface.co/settings/tokens), set it as secret in your Google Colab and restart your session.\n",
            "You will be able to reuse this secret in all of your notebooks.\n",
            "Please note that authentication is recommended but still optional to access public models or datasets.\n",
            "  warnings.warn(\n"
          ]
        },
        {
          "output_type": "display_data",
          "data": {
            "text/plain": [
              "Downloading readme:   0%|          | 0.00/5.81k [00:00<?, ?B/s]"
            ],
            "application/vnd.jupyter.widget-view+json": {
              "version_major": 2,
              "version_minor": 0,
              "model_id": "9931e30682df4be89b544d2b31f81445"
            }
          },
          "metadata": {}
        },
        {
          "output_type": "display_data",
          "data": {
            "text/plain": [
              "Downloading data:   0%|          | 0.00/7.58M [00:00<?, ?B/s]"
            ],
            "application/vnd.jupyter.widget-view+json": {
              "version_major": 2,
              "version_minor": 0,
              "model_id": "195e937408d44f1a99834a08f176fb52"
            }
          },
          "metadata": {}
        },
        {
          "output_type": "display_data",
          "data": {
            "text/plain": [
              "Generating train split:   0%|          | 0/87710 [00:00<?, ? examples/s]"
            ],
            "application/vnd.jupyter.widget-view+json": {
              "version_major": 2,
              "version_minor": 0,
              "model_id": "d5b711164bd845e093a8abfc2dda1a5b"
            }
          },
          "metadata": {}
        }
      ],
      "source": [
        "from datasets import load_dataset\n",
        "\n",
        "data = load_dataset(\"aslg_pc12\")"
      ]
    },
    {
      "cell_type": "code",
      "source": [
        "data"
      ],
      "metadata": {
        "id": "pN6-Kyb5_XdR",
        "outputId": "3a47cf01-57f4-4c72-eaf8-59e6610e7a24",
        "colab": {
          "base_uri": "https://localhost:8080/"
        }
      },
      "execution_count": null,
      "outputs": [
        {
          "output_type": "execute_result",
          "data": {
            "text/plain": [
              "DatasetDict({\n",
              "    train: Dataset({\n",
              "        features: ['gloss', 'text'],\n",
              "        num_rows: 87710\n",
              "    })\n",
              "})"
            ]
          },
          "metadata": {},
          "execution_count": 3
        }
      ]
    },
    {
      "cell_type": "code",
      "source": [
        "data['train'][0]"
      ],
      "metadata": {
        "id": "Qf3CVdQ9seW6",
        "colab": {
          "base_uri": "https://localhost:8080/"
        },
        "outputId": "3eead631-eee9-4872-cf5d-d4f575cdd829"
      },
      "execution_count": null,
      "outputs": [
        {
          "output_type": "execute_result",
          "data": {
            "text/plain": [
              "{'gloss': '\\ufeffMEMBERSHIP PARLIAMENT SEE MINUTE\\n',\n",
              " 'text': '\\ufeffmembership of parliament see minutes\\n'}"
            ]
          },
          "metadata": {},
          "execution_count": 4
        }
      ]
    },
    {
      "cell_type": "code",
      "source": [
        "from torchtext.data.utils import get_tokenizer\n",
        "from torchtext.vocab import build_vocab_from_iterator\n",
        "SRC_LANGUAGE = 'text'\n",
        "TGT_LANGUAGE = 'gloss'\n",
        "\n",
        "token_transform = {}\n",
        "vocab_transform = {}\n",
        "\n",
        "token_transform[SRC_LANGUAGE] = get_tokenizer('basic_english')\n",
        "token_transform[TGT_LANGUAGE] = get_tokenizer('basic_english')\n",
        "\n",
        "UNK_IDX, PAD_IDX, BOS_IDX, EOS_IDX = 0, 1, 2, 3\n",
        "special_symbols = ['<unk>', '<pad>', '<bos>', '<eos>']"
      ],
      "metadata": {
        "id": "paSzH4OJs-83"
      },
      "execution_count": null,
      "outputs": []
    },
    {
      "cell_type": "code",
      "source": [
        "# def yield_tokens(data_iter, lang):\n",
        "#     for data_sample in data_iter:\n",
        "#         yield token_transformlang\n",
        "\n",
        "def yield_tokens(data_iter, lang):\n",
        "    for data_sample in data_iter:\n",
        "        text = data_sample[lang]\n",
        "        text = text.replace('\\n', '')  # remove newline characters\n",
        "        text = text.replace('\\ufeff', '')  # remove unwanted unicode characters\n",
        "        if lang == 'gloss':\n",
        "            text = text.lower()  # make gloss lowercase\n",
        "        yield token_transform[lang](data_sample[lang])\n",
        "\n",
        "for lang in [SRC_LANGUAGE, TGT_LANGUAGE]:\n",
        "    train_iter = data['train']\n",
        "\n",
        "    # Create torchtext's Vocab object\n",
        "    vocab_transform[lang] = build_vocab_from_iterator(\n",
        "        yield_tokens(train_iter, lang),\n",
        "        min_freq=1,\n",
        "        specials=special_symbols,\n",
        "        special_first=True\n",
        "    )\n",
        "\n",
        "    vocab_transform[lang].set_default_index(UNK_IDX)"
      ],
      "metadata": {
        "id": "kz1KCDx5s_WU"
      },
      "execution_count": null,
      "outputs": []
    },
    {
      "cell_type": "code",
      "source": [
        "vocab_transform[SRC_LANGUAGE].get_itos()[:20]"
      ],
      "metadata": {
        "id": "wySS-rbdvn5W",
        "colab": {
          "base_uri": "https://localhost:8080/"
        },
        "outputId": "99836f80-87a0-4497-aac6-034b97e9e37b"
      },
      "execution_count": null,
      "outputs": [
        {
          "output_type": "execute_result",
          "data": {
            "text/plain": [
              "['<unk>',\n",
              " '<pad>',\n",
              " '<bos>',\n",
              " '<eos>',\n",
              " '.',\n",
              " 'the',\n",
              " ',',\n",
              " 'of',\n",
              " 'to',\n",
              " 'is',\n",
              " 'in',\n",
              " 'and',\n",
              " 'this',\n",
              " 'a',\n",
              " 'we',\n",
              " 'that',\n",
              " 'i',\n",
              " 'for',\n",
              " 'it',\n",
              " 'be']"
            ]
          },
          "metadata": {},
          "execution_count": 7
        }
      ]
    },
    {
      "cell_type": "code",
      "source": [
        "vocab_transform[TGT_LANGUAGE].get_itos()[:20]"
      ],
      "metadata": {
        "id": "b77rrEWYv1Wn",
        "colab": {
          "base_uri": "https://localhost:8080/"
        },
        "outputId": "72e31619-43eb-441f-ee62-17f5f3d25245"
      },
      "execution_count": null,
      "outputs": [
        {
          "output_type": "execute_result",
          "data": {
            "text/plain": [
              "['<unk>',\n",
              " '<pad>',\n",
              " '<bos>',\n",
              " '<eos>',\n",
              " '.',\n",
              " 'be',\n",
              " ',',\n",
              " 'to',\n",
              " 'x-we',\n",
              " 'in',\n",
              " 'and',\n",
              " 'this',\n",
              " 'that',\n",
              " 'x-i',\n",
              " 'have',\n",
              " 'for',\n",
              " 'x-it',\n",
              " 'desc-not',\n",
              " 'on',\n",
              " 'will']"
            ]
          },
          "metadata": {},
          "execution_count": 8
        }
      ]
    },
    {
      "cell_type": "code",
      "source": [
        "len(vocab_transform[SRC_LANGUAGE]), len(vocab_transform[TGT_LANGUAGE])"
      ],
      "metadata": {
        "id": "DgPl0KFnv4QP",
        "colab": {
          "base_uri": "https://localhost:8080/"
        },
        "outputId": "557ab5d3-26de-445e-b7de-f93b6e05fcff"
      },
      "execution_count": null,
      "outputs": [
        {
          "output_type": "execute_result",
          "data": {
            "text/plain": [
              "(21022, 15855)"
            ]
          },
          "metadata": {},
          "execution_count": 9
        }
      ]
    },
    {
      "cell_type": "markdown",
      "source": [
        "### DATA LOADER + Split dataset"
      ],
      "metadata": {
        "id": "8hYd7uLPa9Y8"
      }
    },
    {
      "cell_type": "code",
      "source": [
        "import torch\n",
        "from torch.nn.utils.rnn import pad_sequence\n",
        "import torch.nn as nn\n",
        "import torch.nn.functional as F\n",
        "MAX_LEN = 100\n",
        "\n",
        "# helper function to club together sequential operations\n",
        "def sequential_transforms(*transforms):\n",
        "    def func(txt_input):\n",
        "        for transform in transforms:\n",
        "            txt_input = transform(txt_input)\n",
        "        return txt_input\n",
        "    return func\n",
        "\n",
        "# function to add BOS/EOS and create tensor for input sequence indices\n",
        "def tensor_transform(token_ids):\n",
        "    return torch.cat((torch.tensor([BOS_IDX]),\n",
        "                      torch.tensor(token_ids),\n",
        "                      torch.tensor([EOS_IDX])))\n",
        "\n",
        "# ``src`` and ``tgt`` language text transforms to convert raw strings into tensors indices\n",
        "text_transform = {}\n",
        "for lang in [SRC_LANGUAGE, TGT_LANGUAGE]:\n",
        "    text_transform[lang] = sequential_transforms(\n",
        "        token_transform[lang], # Tokenization\n",
        "        vocab_transform[lang], # Numericalization\n",
        "        tensor_transform # Add BOS/EOS and create tensor\n",
        "    )\n",
        "\n",
        "def truncate(sample):\n",
        "    if sample.size(0) > MAX_LEN:\n",
        "        return sample[MAX_LEN:, :]\n",
        "    else:\n",
        "        return sample\n",
        "\n",
        "# function to collate data samples into batch tensors\n",
        "def collate_fn(batch):\n",
        "    src_batch, tgt_batch = [], []\n",
        "    for sample in batch:\n",
        "        src_sample, tgt_sample = sample[SRC_LANGUAGE], sample[TGT_LANGUAGE]\n",
        "        src_batch.append(text_transform[SRC_LANGUAGE](src_sample).to(dtype=torch.int64))\n",
        "        tgt_batch.append(text_transform[TGT_LANGUAGE](tgt_sample).to(dtype=torch.int64))\n",
        "\n",
        "    src_batch = pad_sequence(src_batch, padding_value=PAD_IDX, batch_first=True)\n",
        "    src_batch = truncate(src_batch)\n",
        "    tgt_batch = pad_sequence(tgt_batch, padding_value=PAD_IDX, batch_first=True)\n",
        "    tgt_batch = truncate(tgt_batch)\n",
        "    return src_batch, tgt_batch"
      ],
      "metadata": {
        "id": "qg0H6hD7wHI_"
      },
      "execution_count": null,
      "outputs": []
    },
    {
      "cell_type": "code",
      "source": [
        "from torch.utils.data import DataLoader, Subset\n",
        "import numpy as np\n",
        "import pandas as pd\n",
        "from sklearn.model_selection import train_test_split\n",
        "\n",
        "BATCH_SIZE = 32\n",
        "\n",
        "train_dataset = data['train']\n",
        "\n",
        "# Create indices for the split\n",
        "train_indices, temp_indices = train_test_split(list(range(len(train_dataset))), test_size=0.2, random_state=42)\n",
        "valid_indices, test_indices = train_test_split(temp_indices, test_size=0.5, random_state=42)\n",
        "\n",
        "# Create PyTorch Datasets\n",
        "train_data = Subset(train_dataset, train_indices)\n",
        "valid_data = Subset(train_dataset, valid_indices)\n",
        "test_data = Subset(train_dataset, test_indices)\n",
        "\n",
        "train_dataloader = DataLoader(\n",
        "    train_data,\n",
        "    batch_size=BATCH_SIZE,\n",
        "    collate_fn=collate_fn\n",
        ")\n",
        "\n",
        "valid_dataloader = DataLoader(\n",
        "    valid_data,\n",
        "    batch_size=BATCH_SIZE,\n",
        "    collate_fn=collate_fn\n",
        ")\n",
        "\n",
        "test_dataloader = DataLoader(\n",
        "    test_data,\n",
        "    batch_size=BATCH_SIZE,\n",
        "    collate_fn=collate_fn\n",
        ")"
      ],
      "metadata": {
        "id": "Sq4myISqwLX9"
      },
      "execution_count": null,
      "outputs": []
    },
    {
      "cell_type": "code",
      "source": [
        "print(f\"Size of training data: {len(train_data)}\")\n",
        "print(f\"Size of validation data: {len(valid_data)}\")\n",
        "print(f\"Size of test data: {len(test_data)}\")"
      ],
      "metadata": {
        "colab": {
          "base_uri": "https://localhost:8080/"
        },
        "id": "G6FQ8PuAR3aw",
        "outputId": "4a6dc630-a217-40cc-d9ed-3d134017f2e0"
      },
      "execution_count": null,
      "outputs": [
        {
          "output_type": "stream",
          "name": "stdout",
          "text": [
            "Size of training data: 70168\n",
            "Size of validation data: 8771\n",
            "Size of test data: 8771\n"
          ]
        }
      ]
    },
    {
      "cell_type": "code",
      "source": [
        "src_ids, tgt_ids = next(iter(train_dataloader))\n",
        "src_ids.shape, tgt_ids.shape"
      ],
      "metadata": {
        "id": "oDU7TJu4wXGC",
        "colab": {
          "base_uri": "https://localhost:8080/"
        },
        "outputId": "5790ef50-157e-4fd5-b7b3-31a650b5e82d"
      },
      "execution_count": null,
      "outputs": [
        {
          "output_type": "execute_result",
          "data": {
            "text/plain": [
              "(torch.Size([32, 23]), torch.Size([32, 21]))"
            ]
          },
          "metadata": {},
          "execution_count": 13
        }
      ]
    },
    {
      "cell_type": "markdown",
      "source": [
        "#2. Model Build"
      ],
      "metadata": {
        "id": "fKiOokso1dlE"
      }
    },
    {
      "cell_type": "markdown",
      "source": [
        "## Template"
      ],
      "metadata": {
        "id": "y8Wc_wH7HUFw"
      }
    },
    {
      "cell_type": "code",
      "source": [
        "class EncoderGRU(nn.Module):\n",
        "    def __init__(self, input_size, hidden_size, dropout_p=0.1):\n",
        "        super(EncoderGRU, self).__init__()\n",
        "        self.hidden_size = hidden_size\n",
        "\n",
        "        self.embedding = nn.Embedding(input_size, hidden_size)\n",
        "        self.gru = nn.GRU(hidden_size, hidden_size, batch_first=True)\n",
        "        self.dropout = nn.Dropout(dropout_p)\n",
        "\n",
        "    def forward(self, input):\n",
        "        embedded = self.dropout(self.embedding(input))\n",
        "        output, hidden = self.gru(embedded)\n",
        "        return output, hidden"
      ],
      "metadata": {
        "id": "13StJXFJFNc3"
      },
      "execution_count": null,
      "outputs": []
    },
    {
      "cell_type": "code",
      "source": [
        "input_size = len(vocab_transform[SRC_LANGUAGE])\n",
        "hidden_size = 256\n",
        "\n",
        "encoder = EncoderGRU(input_size, hidden_size)"
      ],
      "metadata": {
        "id": "jSOvXbPYFSNm"
      },
      "execution_count": null,
      "outputs": []
    },
    {
      "cell_type": "code",
      "source": [
        "encoder_output, encoder_hidden = encoder(src_ids)\n",
        "encoder_output.shape, encoder_hidden.shape"
      ],
      "metadata": {
        "id": "pE28-RuqFVcc",
        "colab": {
          "base_uri": "https://localhost:8080/"
        },
        "outputId": "fff4deda-8f00-4d53-acca-ebaf4dbc9b41"
      },
      "execution_count": null,
      "outputs": [
        {
          "output_type": "execute_result",
          "data": {
            "text/plain": [
              "(torch.Size([32, 23, 256]), torch.Size([1, 32, 256]))"
            ]
          },
          "metadata": {},
          "execution_count": 18
        }
      ]
    },
    {
      "cell_type": "code",
      "source": [
        "class DecoderGRU(nn.Module):\n",
        "    def __init__(self, hidden_size, output_size):\n",
        "        super(DecoderGRU, self).__init__()\n",
        "        self.embedding = nn.Embedding(output_size, hidden_size)\n",
        "        self.gru = nn.GRU(hidden_size, hidden_size, batch_first=True)\n",
        "        self.out = nn.Linear(hidden_size, output_size)\n",
        "\n",
        "    def forward(self, input, hidden):\n",
        "        output = self.embedding(input)\n",
        "        output, hidden = self.gru(output, hidden)\n",
        "        output = self.out(output)\n",
        "        return output, hidden"
      ],
      "metadata": {
        "id": "v2vbSAgRFWxk"
      },
      "execution_count": null,
      "outputs": []
    },
    {
      "cell_type": "code",
      "source": [
        "class Seq2Seq(nn.Module):\n",
        "    def __init__(self, encoder, decoder, device, BOS_IDX):\n",
        "        super(Seq2Seq, self).__init__()\n",
        "        self.encoder = encoder\n",
        "        self.decoder = decoder\n",
        "        self.device = device\n",
        "        self.BOS_IDX = BOS_IDX\n",
        "\n",
        "    def forward(self, src_ids, tgt_ids):\n",
        "        batch_size = tgt_ids.size(0)\n",
        "        seq_len = tgt_ids.size(1)\n",
        "\n",
        "        decoder_input = torch.empty(batch_size, 1, dtype=torch.long, device=self.device).fill_(self.BOS_IDX)\n",
        "        encoder_output, decoder_hidden = self.encoder(src_ids)\n",
        "        decoder_outputs = []\n",
        "\n",
        "        for i in range(seq_len):\n",
        "            decoder_output, decoder_hidden  = self.decoder(decoder_input, decoder_hidden)\n",
        "            decoder_outputs.append(decoder_output)\n",
        "\n",
        "            # Teacher forcing: Feed the target as the next input\n",
        "            decoder_input = tgt_ids[:, i].unsqueeze(1) # Teacher forcing\n",
        "\n",
        "        decoder_outputs = torch.cat(decoder_outputs, dim=1)\n",
        "        return decoder_outputs, decoder_hidden"
      ],
      "metadata": {
        "id": "osxpdx46FaXz"
      },
      "execution_count": null,
      "outputs": []
    },
    {
      "cell_type": "code",
      "source": [
        "input_size = len(vocab_transform[SRC_LANGUAGE])\n",
        "output_size = len(vocab_transform[TGT_LANGUAGE])\n",
        "hidden_size = 256\n",
        "device = torch.device(\"cuda\" if torch.cuda.is_available() else \"cpu\")\n",
        "\n",
        "encoder = EncoderGRU(input_size, hidden_size)\n",
        "decoder = DecoderGRU(hidden_size, output_size)\n",
        "model = Seq2Seq(encoder, decoder, device, EOS_IDX)\n",
        "model.to(device)"
      ],
      "metadata": {
        "id": "9SHXWinOFcCu",
        "colab": {
          "base_uri": "https://localhost:8080/"
        },
        "outputId": "ce2c524a-1bbf-4c49-d3df-d69f92134d12"
      },
      "execution_count": null,
      "outputs": [
        {
          "output_type": "execute_result",
          "data": {
            "text/plain": [
              "Seq2Seq(\n",
              "  (encoder): EncoderGRU(\n",
              "    (embedding): Embedding(21022, 256)\n",
              "    (gru): GRU(256, 256, batch_first=True)\n",
              "    (dropout): Dropout(p=0.1, inplace=False)\n",
              "  )\n",
              "  (decoder): DecoderGRU(\n",
              "    (embedding): Embedding(15855, 256)\n",
              "    (gru): GRU(256, 256, batch_first=True)\n",
              "    (out): Linear(in_features=256, out_features=15855, bias=True)\n",
              "  )\n",
              ")"
            ]
          },
          "metadata": {},
          "execution_count": 20
        }
      ]
    },
    {
      "cell_type": "code",
      "source": [
        "tgt_input = tgt_ids[:, :-1]\n",
        "tgt_output = tgt_ids[:, 1:]\n",
        "decoder_outputs, decoder_hidden = model(src_ids.to(device), tgt_input.to(device))"
      ],
      "metadata": {
        "id": "zaJZr8B3FeOK"
      },
      "execution_count": null,
      "outputs": []
    },
    {
      "cell_type": "code",
      "source": [
        "decoder_outputs.shape, decoder_hidden.shape"
      ],
      "metadata": {
        "id": "uiOsqPcoFgek",
        "colab": {
          "base_uri": "https://localhost:8080/"
        },
        "outputId": "5d34f7c1-4b73-48cf-82ed-d70b2590afa3"
      },
      "execution_count": null,
      "outputs": [
        {
          "output_type": "execute_result",
          "data": {
            "text/plain": [
              "(torch.Size([32, 20, 15855]), torch.Size([1, 32, 256]))"
            ]
          },
          "metadata": {},
          "execution_count": 22
        }
      ]
    },
    {
      "cell_type": "code",
      "source": [
        "tgt_output.shape"
      ],
      "metadata": {
        "id": "_pac4MKNFjgJ",
        "colab": {
          "base_uri": "https://localhost:8080/"
        },
        "outputId": "d278b3fd-cd6d-4dff-b03c-2b034b81c17b"
      },
      "execution_count": null,
      "outputs": [
        {
          "output_type": "execute_result",
          "data": {
            "text/plain": [
              "torch.Size([32, 20])"
            ]
          },
          "metadata": {},
          "execution_count": 23
        }
      ]
    },
    {
      "cell_type": "markdown",
      "source": [
        "## Attention Mechanism"
      ],
      "metadata": {
        "id": "vT2Pi6FltnBn"
      }
    },
    {
      "cell_type": "code",
      "source": [
        "# General attention mechanism\n",
        "class Attention(nn.Module):\n",
        "    def __init__(self, hidden_size):\n",
        "        super(Attention, self).__init__()\n",
        "        self.hidden_size = hidden_size\n",
        "        self.attn = nn.Linear(self.hidden_size * 2, hidden_size)\n",
        "        self.v = nn.Parameter(torch.rand(hidden_size))\n",
        "\n",
        "    def forward(self, hidden, encoder_outputs):\n",
        "        timestep = encoder_outputs.shape[1]\n",
        "        h = hidden.repeat(timestep, 1, 1).transpose(0, 1)\n",
        "        attn_energies = self.score(h, encoder_outputs)\n",
        "        return F.softmax(attn_energies, dim=1).unsqueeze(1)\n",
        "\n",
        "    def score(self, hidden, encoder_outputs):\n",
        "        # Repeat hidden state across the sequence length dimension\n",
        "        hidden = hidden.repeat(1, encoder_outputs.size(1), 1)\n",
        "        energy = F.tanh(self.attn(torch.cat([hidden, encoder_outputs], 2)))\n",
        "        energy = energy.transpose(1, 2)\n",
        "        v = self.v.repeat(encoder_outputs.data.shape[0], 1).unsqueeze(1)\n",
        "        energy = torch.bmm(v, energy)\n",
        "        return energy.squeeze(1)"
      ],
      "metadata": {
        "id": "my7S27itwXpJ"
      },
      "execution_count": null,
      "outputs": []
    },
    {
      "cell_type": "code",
      "source": [
        "class LuongAttention(nn.Module):\n",
        "    def __init__(self, hidden_size):\n",
        "        super(LuongAttention, self).__init__()\n",
        "        self.hidden_size = hidden_size\n",
        "\n",
        "    def forward(self, decoder_hidden, encoder_outputs):\n",
        "        # Calculate alignment scores\n",
        "        alignment_scores = torch.bmm(decoder_hidden, encoder_outputs.transpose(1, 2))\n",
        "        # Normalize alignment scores\n",
        "        attn_weights = F.softmax(alignment_scores.view(-1, encoder_outputs.size(1)), dim=1).view(-1, 1, encoder_outputs.size(1))\n",
        "        # Calculate context vector\n",
        "        context_vector = torch.bmm(attn_weights, encoder_outputs)\n",
        "        return context_vector, attn_weights"
      ],
      "metadata": {
        "id": "qV5uei8ZZ4ak"
      },
      "execution_count": null,
      "outputs": []
    },
    {
      "cell_type": "code",
      "source": [
        "class BahdanauAttention(nn.Module):\n",
        "    def __init__(self, hidden_size):\n",
        "        super(BahdanauAttention, self).__init__()\n",
        "        self.hidden_size = hidden_size\n",
        "        self.key_layer = nn.Linear(hidden_size, hidden_size, bias=False)\n",
        "        self.query_layer = nn.Linear(hidden_size, hidden_size, bias=False)\n",
        "        self.energy_layer = nn.Linear(hidden_size, 1, bias=False)\n",
        "\n",
        "    def forward(self, decoder_hidden, encoder_outputs):\n",
        "        # Calculate alignment scores\n",
        "        key = self.key_layer(encoder_outputs)\n",
        "        query = self.query_layer(decoder_hidden)\n",
        "        alignment_scores = self.energy_layer(torch.tanh(key + query)).squeeze(2)\n",
        "        # Normalize alignment scores\n",
        "        attn_weights = F.softmax(alignment_scores, dim=1).unsqueeze(1)\n",
        "        # Calculate context vector\n",
        "        context_vector = torch.bmm(attn_weights, encoder_outputs)\n",
        "        return context_vector, attn_weights"
      ],
      "metadata": {
        "id": "H1omYtC2Z-iQ"
      },
      "execution_count": null,
      "outputs": []
    },
    {
      "cell_type": "markdown",
      "source": [
        "## 1D CNN + BiLSTM + Attention Mechanism"
      ],
      "metadata": {
        "id": "FgSp5vKe1jrD"
      }
    },
    {
      "cell_type": "code",
      "source": [
        "class Encoder_CNN_BiLSTM_Att(nn.Module):\n",
        "    def __init__(self, input_size, hidden_size, dropout_p=0.1):\n",
        "        super(Encoder_CNN_BiLSTM_Att, self).__init__()\n",
        "        self.hidden_size = hidden_size\n",
        "\n",
        "        self.embedding = nn.Embedding(input_size, hidden_size)\n",
        "        self.dropout = nn.Dropout(dropout_p)\n",
        "        self.conv1 = nn.Conv1d(hidden_size, hidden_size, kernel_size=3, padding=1)\n",
        "        self.lstm = nn.LSTM(hidden_size, hidden_size, bidirectional=True, batch_first=True)\n",
        "\n",
        "    def forward(self, input):\n",
        "        embedded = self.dropout(self.embedding(input))\n",
        "        conv_out = F.relu(self.conv1(embedded.transpose(1,2)))\n",
        "        output, (hidden, cell) = self.lstm(conv_out.transpose(1,2))\n",
        "        return output, (hidden, cell)\n",
        "\n",
        "class Decoder_CNN_BiLSTM_Att(nn.Module):\n",
        "    def __init__(self, hidden_size, output_size):\n",
        "        super(Decoder_CNN_BiLSTM_Att, self).__init__()\n",
        "        self.hidden_size = hidden_size\n",
        "        self.output_size = output_size\n",
        "        self.embedding = nn.Embedding(output_size, hidden_size)\n",
        "        self.lstm = nn.LSTM(hidden_size * 2, hidden_size, batch_first=True)\n",
        "        self.out = nn.Linear(hidden_size, output_size)  # change hidden_size * 2 to hidden_size\n",
        "        self.attn = BahdanauAttention(hidden_size * 2, output_size)\n",
        "\n",
        "    def forward(self, input, hidden, cell, encoder_outputs):\n",
        "        output = self.embedding(input)\n",
        "        attn_weights = self.attn(output, encoder_outputs)\n",
        "        context = attn_weights.bmm(encoder_outputs)\n",
        "        output = torch.cat((output, context), 2)\n",
        "        output, (hidden, cell) = self.lstm(output, (hidden, cell))\n",
        "        output = self.out(output.view(-1, self.hidden_size))  # change self.hidden_size * 2 to self.hidden_size\n",
        "        return output, (hidden, cell), attn_weights\n"
      ],
      "metadata": {
        "id": "SWCvQ3xttuXH"
      },
      "execution_count": null,
      "outputs": []
    },
    {
      "cell_type": "markdown",
      "source": [
        "## 1DCNN + BiGRU + Attention Mechanism"
      ],
      "metadata": {
        "id": "e6u1u4CJ1vD2"
      }
    },
    {
      "cell_type": "code",
      "source": [
        "class Encoder_CNN_BiGRU_Att(nn.Module):\n",
        "    def __init__(self, input_size, hidden_size, dropout_p=0.1):\n",
        "        super(Encoder_CNN_BiGRU_Att, self).__init__()\n",
        "        self.hidden_size = hidden_size\n",
        "\n",
        "        self.embedding = nn.Embedding(input_size, hidden_size)\n",
        "        self.dropout = nn.Dropout(dropout_p)\n",
        "        self.conv1 = nn.Conv1d(hidden_size, hidden_size, kernel_size=3, padding=1)\n",
        "        self.gru = nn.GRU(hidden_size, hidden_size, bidirectional=True, batch_first=True)\n",
        "\n",
        "    def forward(self, input):\n",
        "        embedded = self.dropout(self.embedding(input))\n",
        "        conv_out = F.relu(self.conv1(embedded.transpose(1,2)))\n",
        "        output, hidden = self.gru(conv_out.transpose(1,2))\n",
        "        return output, hidden\n",
        "class Decoder_CNN_BiGRU_Att(nn.Module):\n",
        "    def __init__(self, hidden_size, output_size):\n",
        "        super(Decoder_CNN_BiGRU_Att, self).__init__()\n",
        "        self.hidden_size = hidden_size\n",
        "        self.output_size = output_size\n",
        "        self.embedding = nn.Embedding(output_size, hidden_size)\n",
        "        self.gru = nn.GRU(hidden_size * 2, hidden_size, batch_first=True)\n",
        "        self.out = nn.Linear(hidden_size, output_size)\n",
        "        self.attn = Attention(hidden_size)\n",
        "\n",
        "    def forward(self, input, hidden, encoder_outputs):\n",
        "        output = self.embedding(input)\n",
        "        attn_weights = self.attn(output, encoder_outputs)\n",
        "        context = attn_weights.bmm(encoder_outputs)\n",
        "        output = torch.cat((output, context), 2)\n",
        "        output, hidden = self.gru(output, hidden)\n",
        "        output = self.out(output.view(-1, self.hidden_size))\n",
        "        return output, hidden, attn_weights"
      ],
      "metadata": {
        "id": "J7_CiexL10ze"
      },
      "execution_count": null,
      "outputs": []
    },
    {
      "cell_type": "markdown",
      "source": [
        "# Transformer"
      ],
      "metadata": {
        "id": "bNfA0mK5123Q"
      }
    },
    {
      "cell_type": "code",
      "source": [],
      "metadata": {
        "id": "FEIUVpLi19nx"
      },
      "execution_count": null,
      "outputs": []
    },
    {
      "cell_type": "markdown",
      "source": [
        "# 3. Trainer"
      ],
      "metadata": {
        "id": "kiqzXfosHY5u"
      }
    },
    {
      "cell_type": "code",
      "source": [
        "import time\n",
        "from torch.optim.lr_scheduler import ReduceLROnPlateau\n",
        "import matplotlib.pyplot as plt\n",
        "\n",
        "def train_epoch(model, optimizer, criterion, train_dataloader, device):\n",
        "    model.train()\n",
        "    losses = []\n",
        "\n",
        "    for idx, (src_ids, tgt_ids) in enumerate(train_dataloader):\n",
        "        src_ids = src_ids.to(device)\n",
        "        tgt_ids = tgt_ids.to(device)\n",
        "\n",
        "        tgt_input = tgt_ids[:, :-1]\n",
        "        tgt_output = tgt_ids[:, 1:]\n",
        "\n",
        "        optimizer.zero_grad()\n",
        "        decoder_outputs, decoder_hidden = model(src_ids, tgt_input)\n",
        "\n",
        "        loss = criterion(\n",
        "            decoder_outputs.reshape(-1, decoder_outputs.shape[-1]),\n",
        "            tgt_output.reshape(-1))\n",
        "        loss.backward()\n",
        "\n",
        "        optimizer.step()\n",
        "        losses.append(loss.item())\n",
        "\n",
        "    return sum(losses) / len(losses)\n",
        "\n",
        "def evaluate(model, data_loader, criterion, device):\n",
        "    model.eval()\n",
        "    losses = []\n",
        "    with torch.no_grad():\n",
        "        for idx, (src_ids, tgt_ids) in enumerate(data_loader):\n",
        "            src_ids = src_ids.to(device)\n",
        "            tgt_ids = tgt_ids.to(device)\n",
        "            tgt_input = tgt_ids[:, :-1]\n",
        "            tgt_output = tgt_ids[:, 1:]\n",
        "\n",
        "            decoder_outputs, decoder_hidden = model(src_ids, tgt_input)\n",
        "            loss = criterion(\n",
        "                decoder_outputs.reshape(-1, decoder_outputs.shape[-1]),\n",
        "                tgt_output.reshape(-1)\n",
        "            )\n",
        "            losses.append(loss.item())\n",
        "    return sum(losses) / len(losses)"
      ],
      "metadata": {
        "id": "t5zW_-WqHcID"
      },
      "execution_count": null,
      "outputs": []
    },
    {
      "cell_type": "code",
      "source": [
        "# def train(model, train_dataloader, valid_dataloader, optimizer, criterion, device, epochs):\n",
        "#     for epoch in range(1, epochs+1):\n",
        "#         start_time = time.time()\n",
        "#         train_loss = train_epoch(model, optimizer, criterion, train_dataloader, device)\n",
        "#         valid_loss = evaluate(model, valid_dataloader, criterion, device)\n",
        "#         end_time = time.time()\n",
        "#         print((f\"Epoch: {epoch}, Train loss: {train_loss:.3f}, Val loss: {valid_loss:.3f}, \"f\"Epoch time = {(end_time - start_time):.3f}s\"))\n",
        "def train(model, train_dataloader, valid_dataloader, optimizer, criterion, device, epochs, patience=5, save_path='model.pt'):\n",
        "    scheduler = ReduceLROnPlateau(optimizer, 'min', patience=patience)\n",
        "    best_loss = float('inf')\n",
        "    no_improve_epoch = 0\n",
        "\n",
        "    train_losses = []\n",
        "    valid_losses = []\n",
        "\n",
        "    for epoch in range(1, epochs+1):\n",
        "        start_time = time.time()\n",
        "        train_loss = train_epoch(model, optimizer, criterion, train_dataloader, device)\n",
        "        valid_loss = evaluate(model, valid_dataloader, criterion, device)\n",
        "        end_time = time.time()\n",
        "\n",
        "        train_losses.append(train_loss)\n",
        "        valid_losses.append(valid_loss)\n",
        "\n",
        "        if valid_loss < best_loss:\n",
        "            best_loss = valid_loss\n",
        "            no_improve_epoch = 0\n",
        "            # Save the model\n",
        "            torch.save({\n",
        "                'epoch': epoch,\n",
        "                'model_state_dict': model.state_dict(),\n",
        "                'optimizer_state_dict': optimizer.state_dict(),\n",
        "                'loss': best_loss,\n",
        "            }, save_path)\n",
        "        else:\n",
        "            no_improve_epoch += 1\n",
        "\n",
        "        if no_improve_epoch == patience:\n",
        "            print(f'Early stopping at epoch {epoch}, best loss: {best_loss}')\n",
        "            break\n",
        "\n",
        "        scheduler.step(valid_loss)\n",
        "\n",
        "        print((f\"Epoch: {epoch}, Train loss: {train_loss:.3f}, Val loss: {valid_loss:.3f}, \"f\"Epoch time = {(end_time - start_time):.3f}s\"))\n",
        "\n",
        "    # Plotting the training and validation loss\n",
        "    plt.figure(figsize=(10, 5))\n",
        "    plt.plot(train_losses, label='Training loss')\n",
        "    plt.plot(valid_losses, label='Validation loss')\n",
        "    plt.legend(frameon=False)\n",
        "    plt.show()"
      ],
      "metadata": {
        "id": "652tGCPcIyav"
      },
      "execution_count": null,
      "outputs": []
    },
    {
      "cell_type": "code",
      "source": [
        "import torch.optim as optim\n",
        "\n",
        "input_size = len(vocab_transform[SRC_LANGUAGE])\n",
        "output_size = len(vocab_transform[TGT_LANGUAGE])\n",
        "hidden_size = 256\n",
        "device = torch.device(\"cuda\" if torch.cuda.is_available() else \"cpu\")\n",
        "\n",
        "encoder = EncoderGRU(input_size, hidden_size)\n",
        "decoder = DecoderGRU(hidden_size, output_size)\n",
        "model = Seq2Seq(encoder, decoder, device, EOS_IDX)\n",
        "model.to(device)\n",
        "\n",
        "epochs = 100\n",
        "criterion = nn.CrossEntropyLoss(ignore_index=PAD_IDX)\n",
        "optimizer = optim.Adam(model.parameters())\n",
        "train(model, train_dataloader, valid_dataloader, optimizer, criterion, device, epochs)"
      ],
      "metadata": {
        "id": "a9-m3gilHm79",
        "colab": {
          "base_uri": "https://localhost:8080/",
          "height": 575
        },
        "outputId": "6be0573e-78cf-4859-fcbf-8682f69bcee0"
      },
      "execution_count": null,
      "outputs": [
        {
          "output_type": "stream",
          "name": "stdout",
          "text": [
            "Epoch: 1, Train loss: 4.547, Val loss: 3.838, Epoch time = 60.498s\n",
            "Epoch: 2, Train loss: 3.423, Val loss: 3.327, Epoch time = 62.866s\n",
            "Epoch: 3, Train loss: 2.905, Val loss: 3.090, Epoch time = 60.594s\n",
            "Epoch: 4, Train loss: 2.549, Val loss: 2.958, Epoch time = 59.242s\n",
            "Epoch: 5, Train loss: 2.279, Val loss: 2.892, Epoch time = 59.805s\n",
            "Epoch: 6, Train loss: 2.069, Val loss: 2.864, Epoch time = 59.315s\n",
            "Epoch: 7, Train loss: 1.896, Val loss: 2.837, Epoch time = 59.680s\n",
            "Epoch: 8, Train loss: 1.753, Val loss: 2.831, Epoch time = 59.599s\n",
            "Epoch: 9, Train loss: 1.635, Val loss: 2.847, Epoch time = 59.413s\n",
            "Epoch: 10, Train loss: 1.537, Val loss: 2.854, Epoch time = 59.609s\n",
            "Epoch: 11, Train loss: 1.447, Val loss: 2.860, Epoch time = 59.471s\n",
            "Epoch: 12, Train loss: 1.375, Val loss: 2.916, Epoch time = 59.892s\n",
            "Early stopping at epoch 13, best loss: 2.830533838272095\n"
          ]
        },
        {
          "output_type": "display_data",
          "data": {
            "text/plain": [
              "<Figure size 1000x500 with 1 Axes>"
            ],
            "image/png": "[encoded data removed]"
          },
          "metadata": {}
        }
      ]
    },
    {
      "cell_type": "markdown",
      "source": [
        "### Load model from checkpoint"
      ],
      "metadata": {
        "id": "pQQeXNxuJN7G"
      }
    },
    {
      "cell_type": "code",
      "source": [
        "checkpoint = torch.load('model.pt')\n",
        "model.load_state_dict(checkpoint['model_state_dict'])\n",
        "optimizer.load_state_dict(checkpoint['optimizer_state_dict'])\n",
        "epoch = checkpoint['epoch']\n",
        "loss = checkpoint['loss']\n",
        "\n",
        "model.eval()  # For inference\n",
        "# - OR -\n",
        "model.train()  # For further training"
      ],
      "metadata": {
        "id": "DY1vBC7LJJ31"
      },
      "execution_count": null,
      "outputs": []
    },
    {
      "cell_type": "markdown",
      "source": [
        "### 1DCNN+BiLSTM+ATT"
      ],
      "metadata": {
        "id": "isWEcTUtS5cQ"
      }
    },
    {
      "cell_type": "code",
      "source": [
        "class Seq2Seq_V2(nn.Module):\n",
        "    def __init__(self, encoder, decoder, device, BOS_IDX):\n",
        "        super(Seq2Seq_V2, self).__init__()\n",
        "        self.encoder = encoder\n",
        "        self.decoder = decoder\n",
        "        self.device = device\n",
        "        self.BOS_IDX = BOS_IDX\n",
        "\n",
        "    def forward(self, src_ids, tgt_ids):\n",
        "        batch_size = tgt_ids.size(0)\n",
        "        seq_len = tgt_ids.size(1)\n",
        "\n",
        "        decoder_input = torch.empty(batch_size, 1, dtype=torch.long, device=self.device).fill_(self.BOS_IDX)\n",
        "        encoder_outputs, (hidden, cell) = self.encoder(src_ids)\n",
        "        decoder_outputs = []\n",
        "\n",
        "        for i in range(seq_len):\n",
        "            decoder_output, (hidden, cell), _ = self.decoder(decoder_input, hidden, cell, encoder_outputs)\n",
        "            decoder_outputs.append(decoder_output)\n",
        "\n",
        "            # Teacher forcing: Feed the target as the next input\n",
        "            decoder_input = tgt_ids[:, i].unsqueeze(1) # Teacher forcing\n",
        "\n",
        "        decoder_outputs = torch.cat(decoder_outputs, dim=1)\n",
        "        return decoder_outputs, (hidden, cell)\n"
      ],
      "metadata": {
        "id": "hHH9H1AvWalI"
      },
      "execution_count": null,
      "outputs": []
    },
    {
      "cell_type": "code",
      "source": [
        "input_size = len(vocab_transform[SRC_LANGUAGE])\n",
        "output_size = len(vocab_transform[TGT_LANGUAGE])\n",
        "hidden_size = 256\n",
        "device = torch.device(\"cuda\" if torch.cuda.is_available() else \"cpu\")\n",
        "\n",
        "encoder = Encoder_CNN_BiLSTM_Att(input_size, hidden_size)\n",
        "decoder = Decoder_CNN_BiLSTM_Att(hidden_size, output_size)\n",
        "model = Seq2Seq_V2(encoder, decoder, device, EOS_IDX)\n",
        "model.to(device)"
      ],
      "metadata": {
        "colab": {
          "base_uri": "https://localhost:8080/"
        },
        "outputId": "98d28a82-d618-42f7-b125-acb428cc5df5",
        "id": "_wTJPLmKS3iC"
      },
      "execution_count": null,
      "outputs": [
        {
          "output_type": "execute_result",
          "data": {
            "text/plain": [
              "Seq2Seq_V2(\n",
              "  (encoder): Encoder_CNN_BiLSTM_Att(\n",
              "    (embedding): Embedding(21022, 256)\n",
              "    (dropout): Dropout(p=0.1, inplace=False)\n",
              "    (conv1): Conv1d(256, 256, kernel_size=(3,), stride=(1,), padding=(1,))\n",
              "    (lstm): LSTM(256, 256, batch_first=True, bidirectional=True)\n",
              "  )\n",
              "  (decoder): Decoder_CNN_BiLSTM_Att(\n",
              "    (embedding): Embedding(15855, 256)\n",
              "    (lstm): LSTM(512, 256, batch_first=True)\n",
              "    (out): Linear(in_features=256, out_features=15855, bias=True)\n",
              "    (attn): BahdanauAttention(\n",
              "      (key_layer): Linear(in_features=15855, out_features=512, bias=False)\n",
              "      (query_layer): Linear(in_features=512, out_features=512, bias=False)\n",
              "      (energy_layer): Linear(in_features=512, out_features=1, bias=False)\n",
              "    )\n",
              "  )\n",
              ")"
            ]
          },
          "metadata": {},
          "execution_count": 46
        }
      ]
    },
    {
      "cell_type": "code",
      "source": [
        "tgt_input = tgt_ids[:, :-1]\n",
        "tgt_output = tgt_ids[:, 1:]\n",
        "decoder_outputs, decoder_hidden = model(src_ids.to(device), tgt_input.to(device))"
      ],
      "metadata": {
        "id": "DN6Kz2S9S3iD"
      },
      "execution_count": null,
      "outputs": []
    },
    {
      "cell_type": "code",
      "source": [
        "decoder_outputs.shape, decoder_hidden.shape"
      ],
      "metadata": {
        "colab": {
          "base_uri": "https://localhost:8080/"
        },
        "outputId": "5d34f7c1-4b73-48cf-82ed-d70b2590afa3",
        "id": "hxPh-RzmS3iD"
      },
      "execution_count": null,
      "outputs": [
        {
          "output_type": "execute_result",
          "data": {
            "text/plain": [
              "(torch.Size([32, 20, 15855]), torch.Size([1, 32, 256]))"
            ]
          },
          "metadata": {},
          "execution_count": 22
        }
      ]
    },
    {
      "cell_type": "code",
      "source": [
        "tgt_output.shape"
      ],
      "metadata": {
        "colab": {
          "base_uri": "https://localhost:8080/"
        },
        "outputId": "d278b3fd-cd6d-4dff-b03c-2b034b81c17b",
        "id": "xkGCAhB3S3iD"
      },
      "execution_count": null,
      "outputs": [
        {
          "output_type": "execute_result",
          "data": {
            "text/plain": [
              "torch.Size([32, 20])"
            ]
          },
          "metadata": {},
          "execution_count": 23
        }
      ]
    },
    {
      "cell_type": "markdown",
      "source": [
        "# Inference (Testing)"
      ],
      "metadata": {
        "id": "Ekz8R6SIH2dV"
      }
    },
    {
      "cell_type": "markdown",
      "source": [
        "### 1. RNN/GRU Inference\n"
      ],
      "metadata": {
        "id": "FaKWu40uAsQS"
      }
    },
    {
      "cell_type": "code",
      "source": [
        "DEVICE = torch.device('cuda' if torch.cuda.is_available() else 'cpu')"
      ],
      "metadata": {
        "id": "CKVscbTEhuJf"
      },
      "execution_count": null,
      "outputs": []
    },
    {
      "cell_type": "code",
      "source": [
        "def greedy_decode_rnn(model, src, max_len, start_symbol):\n",
        "    src = src.to(device)\n",
        "    memory, hidden = model.encoder(src)\n",
        "\n",
        "    ys = torch.ones(1, 1).fill_(start_symbol).type(torch.long).to(device)\n",
        "    for i in range(max_len-1):\n",
        "        out, hidden = model.decoder(ys, hidden)\n",
        "        prob = model.decoder.out(hidden.squeeze(0))\n",
        "        _, next_word = torch.max(prob, dim=1)\n",
        "        next_word = next_word.item()\n",
        "\n",
        "        ys = torch.cat([ys,\n",
        "                        torch.ones(1, 1).type_as(src.data).fill_(next_word)], dim=1)\n",
        "        if next_word == EOS_IDX:\n",
        "            break\n",
        "    return ys\n",
        "\n",
        "\n",
        "def translate_rnn(model: torch.nn.Module, src_sentence: str):\n",
        "    model.eval()\n",
        "    src = text_transform[SRC_LANGUAGE](src_sentence).view(1, -1)\n",
        "    num_tokens = src.shape[1]\n",
        "    tgt_tokens = greedy_decode_rnn(\n",
        "        model,  src, max_len=num_tokens + 5, start_symbol=BOS_IDX).flatten()\n",
        "    return \" \".join(\n",
        "        vocab_transform[TGT_LANGUAGE].lookup_tokens(list(tgt_tokens.cpu().numpy()))).replace(\"<bos>\", \"\").replace(\"<eos>\", \"\")\n"
      ],
      "metadata": {
        "id": "mlsMkEY7A97J"
      },
      "execution_count": null,
      "outputs": []
    },
    {
      "cell_type": "code",
      "source": [
        "translate_rnn(model, \"how are you\")"
      ],
      "metadata": {
        "id": "AtiiR8jiIAbW",
        "colab": {
          "base_uri": "https://localhost:8080/",
          "height": 36
        },
        "outputId": "fcbbb8a3-3f54-42dd-bd4f-69f4116c534e"
      },
      "execution_count": null,
      "outputs": [
        {
          "output_type": "execute_result",
          "data": {
            "text/plain": [
              "' be ? '"
            ],
            "application/vnd.google.colaboratory.intrinsic+json": {
              "type": "string"
            }
          },
          "metadata": {},
          "execution_count": 35
        }
      ]
    },
    {
      "cell_type": "code",
      "source": [
        "from tqdm import tqdm\n",
        "import sacrebleu\n",
        "\n",
        "pred_sentences, tgt_sentences = [], []\n",
        "for sample in tqdm(test_data):\n",
        "    src_sentence = sample[SRC_LANGUAGE]\n",
        "    tgt_sentence = sample[TGT_LANGUAGE]\n",
        "\n",
        "    pred_sentence = translate_rnn(model, src_sentence)\n",
        "    pred_sentences.append(pred_sentence)\n",
        "\n",
        "    tgt_sentences.append(tgt_sentence)\n",
        "\n",
        "bleu_score = sacrebleu.corpus_bleu(pred_sentences, [tgt_sentences], force=True)\n",
        "bleu_score"
      ],
      "metadata": {
        "id": "syio0R2GIA3d",
        "colab": {
          "base_uri": "https://localhost:8080/"
        },
        "outputId": "85c70324-209a-4775-beb7-386c64e65d7d"
      },
      "execution_count": null,
      "outputs": [
        {
          "output_type": "stream",
          "name": "stderr",
          "text": [
            "100%|██████████| 8771/8771 [00:47<00:00, 184.56it/s]\n"
          ]
        },
        {
          "output_type": "execute_result",
          "data": {
            "text/plain": [
              "BLEU = 0.01 12.5/0.0/0.0/0.0 (BP = 0.356 ratio = 0.492 hyp_len = 50875 ref_len = 103405)"
            ]
          },
          "metadata": {},
          "execution_count": 38
        }
      ]
    },
    {
      "cell_type": "markdown",
      "source": [
        "### 2. Inference 1DCNN+BiLSTM"
      ],
      "metadata": {
        "id": "SsAeTIqKTiI1"
      }
    },
    {
      "cell_type": "code",
      "source": [],
      "metadata": {
        "id": "QusilSRFTg8i"
      },
      "execution_count": null,
      "outputs": []
    },
    {
      "cell_type": "markdown",
      "source": [
        "### 3. Inference Transformer"
      ],
      "metadata": {
        "id": "81e1Qmx1A4mZ"
      }
    },
    {
      "cell_type": "code",
      "source": [
        "def greedy_decode(model, src, src_mask, max_len, start_symbol):\n",
        "    src = src.to(DEVICE)\n",
        "    src_mask = src_mask.to(DEVICE)\n",
        "\n",
        "    memory = model.encode(src, src_mask)\n",
        "    ys = torch.ones(1, 1).fill_(start_symbol).type(torch.long).to(DEVICE)\n",
        "    for i in range(max_len-1):\n",
        "        memory = memory.to(DEVICE)\n",
        "        tgt_mask = (generate_square_subsequent_mask(ys.size(1))\n",
        "                    .type(torch.bool)).to(DEVICE)\n",
        "        out = model.decode(ys, memory, tgt_mask)\n",
        "        out = out.transpose(0, 1)\n",
        "        prob = model.generator(out[:, -1])\n",
        "        _, next_word = torch.max(prob, dim=1)\n",
        "        next_word = next_word[-1].item()\n",
        "\n",
        "        ys = torch.cat([ys,\n",
        "                        torch.ones(1, 1).type_as(src.data).fill_(next_word)], dim=1)\n",
        "        if next_word == EOS_IDX:\n",
        "            break\n",
        "    return ys\n",
        "\n",
        "\n",
        "# actual function to translate input sentence into target language\n",
        "def translate(model: torch.nn.Module, src_sentence: str):\n",
        "    model.eval()\n",
        "    src = text_transform[SRC_LANGUAGE](src_sentence).view(1, -1)\n",
        "    num_tokens = src.shape[1]\n",
        "    src_mask = (torch.zeros(num_tokens, num_tokens)).type(torch.bool)\n",
        "    tgt_tokens = greedy_decode(\n",
        "        model,  src, src_mask, max_len=num_tokens + 5, start_symbol=BOS_IDX).flatten()\n",
        "    return \" \".join(\n",
        "        vocab_transform[TGT_LANGUAGE].lookup_tokens(list(tgt_tokens.cpu().numpy()))).replace(\"<bos>\", \"\").replace(\"<eos>\", \"\")"
      ],
      "metadata": {
        "id": "m_5wlPRzH8wJ"
      },
      "execution_count": null,
      "outputs": []
    }
  ]
}